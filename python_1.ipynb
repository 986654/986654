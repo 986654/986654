{
  "nbformat": 4,
  "nbformat_minor": 0,
  "metadata": {
    "colab": {
      "provenance": [],
      "collapsed_sections": []
    },
    "kernelspec": {
      "name": "python3",
      "display_name": "Python 3"
    },
    "language_info": {
      "name": "python"
    }
  },
  "cells": [
    {
      "cell_type": "code",
      "execution_count": null,
      "metadata": {
        "colab": {
          "base_uri": "https://localhost:8080/"
        },
        "id": "XzP-5Tgx9Idz",
        "outputId": "d1183aab-17b4-4d75-d7a5-0280eb422cb4"
      },
      "outputs": [
        {
          "output_type": "stream",
          "name": "stdout",
          "text": [
            "hello world\n"
          ]
        }
      ],
      "source": [
        "print('hello world')"
      ]
    },
    {
      "cell_type": "markdown",
      "source": [
        "Intiger, Float"
      ],
      "metadata": {
        "id": "jaDLsYyXitnQ"
      }
    },
    {
      "cell_type": "code",
      "source": [
        "int(1.0)  \n",
        "float(2)\n",
        "str(2)\n",
        "x = 120\n",
        "type(x)\n",
        "\n"
      ],
      "metadata": {
        "id": "tADJJMGo9gul"
      },
      "execution_count": null,
      "outputs": []
    },
    {
      "cell_type": "markdown",
      "source": [
        "Strings\n"
      ],
      "metadata": {
        "id": "LeVJohdRkNQ6"
      }
    },
    {
      "cell_type": "code",
      "source": [
        "name = \"michael jackson\"\n",
        "name[1]\n",
        "name[-1]\n",
        "len('michael jackson')\n",
        "print('michael jackson \\n is the best')\n",
        "print('michael jackson\\t is the best')\n",
        "print('michael jackson\\\\ is the best')\n",
        "print( r'michael jackson \\ is the best')"
      ],
      "metadata": {
        "colab": {
          "base_uri": "https://localhost:8080/"
        },
        "id": "8ZRGU9bLj154",
        "outputId": "a4f10577-d8f0-446d-e509-0d625a515798"
      },
      "execution_count": null,
      "outputs": [
        {
          "output_type": "stream",
          "name": "stdout",
          "text": [
            "michael jackson \n",
            " is the best\n",
            "michael jackson\t is the best\n",
            "michael jackson\\ is the best\n",
            "michael jackson \\ is the best\n"
          ]
        }
      ]
    },
    {
      "cell_type": "markdown",
      "source": [
        "Tuples"
      ],
      "metadata": {
        "id": "yllwyVhxudwd"
      }
    },
    {
      "cell_type": "code",
      "source": [
        "A=\"michael jackson\"\n",
        "B=A.upper()\n",
        "A=\"michael jackson\"\n",
        "B=A.replace('michael','janet')\n",
        "A=\"michael jackson\"\n",
        "A.find('el')"
      ],
      "metadata": {
        "colab": {
          "base_uri": "https://localhost:8080/"
        },
        "id": "dHH5b7HgljbF",
        "outputId": "07814d36-5b89-40e5-ed68-a7f386c26a3d"
      },
      "execution_count": null,
      "outputs": [
        {
          "output_type": "execute_result",
          "data": {
            "text/plain": [
              "5"
            ]
          },
          "metadata": {},
          "execution_count": 43
        }
      ]
    },
    {
      "cell_type": "code",
      "source": [
        "tuple =(\"ravi\",10,1.2)\n",
        "tuple[0]\n",
        "tuple[-2]\n",
        "tuple1 =(\"ravi\",10,1.2,'raju',23)\n",
        "tuple1[0:3]\n",
        "NT =(1,2,('pop','look'),(3,4),('dude',(1,2)))\n",
        "NT[2]\n",
        "NT[2][1]\n",
        "NT[4][0][1]"
      ],
      "metadata": {
        "colab": {
          "base_uri": "https://localhost:8080/",
          "height": 35
        },
        "id": "tzym97WbpkB0",
        "outputId": "aa465903-12ed-48b5-f744-56c377a3b4a3"
      },
      "execution_count": null,
      "outputs": [
        {
          "output_type": "execute_result",
          "data": {
            "text/plain": [
              "'u'"
            ],
            "application/vnd.google.colaboratory.intrinsic+json": {
              "type": "string"
            }
          },
          "metadata": {},
          "execution_count": 53
        }
      ]
    },
    {
      "cell_type": "markdown",
      "source": [
        "**Lists**"
      ],
      "metadata": {
        "id": "C8szkgpVvbur"
      }
    },
    {
      "cell_type": "code",
      "source": [
        "L = ['ravindra', 1.11, 1233, 'A',1]\n",
        "L[3:5]\n",
        "L1 =L+['mackbok',12]\n",
        "L1\n",
        "# Other wise use extend function\n",
        "L = ['ravindra', 1.11, 1233]\n",
        "L.extend(['jack', 11])\n",
        "L\n",
        "#Using append\n",
        "L.append('jack')\n",
        "L\n",
        "L = ['ravindra', 1.11, 1233]\n",
        "#Replace\n",
        "L[0]='naresh'\n",
        "L\n",
        "#Delete\n",
        "del(L[0])\n",
        "L\n",
        "#Split\n",
        "'hard rock'.split()\n",
        "'A,B,C,D'.split(\",\")"
      ],
      "metadata": {
        "colab": {
          "base_uri": "https://localhost:8080/"
        },
        "id": "tI40Hrm8uy9_",
        "outputId": "70e60ad7-5295-4e6e-b473-6c57a2b58dea"
      },
      "execution_count": null,
      "outputs": [
        {
          "output_type": "execute_result",
          "data": {
            "text/plain": [
              "['A', 'B', 'C', 'D']"
            ]
          },
          "metadata": {},
          "execution_count": 81
        }
      ]
    },
    {
      "cell_type": "code",
      "source": [
        "#Sets\n",
        "set1 = {'pop','mat','bat','tax','pop','got','pop','bat'}\n",
        "set1\n",
        "#converting lists into sets using 'set()'(this called type-casting)\n",
        "album_list= ['pop','mat','bat','tax',2020]\n",
        "album_set=set(album_list)\n",
        "album_set\n",
        "#Adding to set\n",
        "A = {'pop','mat','bat','tax','AB/BD'}\n",
        "A.add('roge')\n",
        "A\n",
        "#Removing from set\n",
        "A.remove('roge')\n",
        "A\n",
        "'AB/BD' in A\n",
        "'pop' in A\n",
        "#Union of sets\n",
        "album_set1 = {'bat','tax',2020}\n",
        "album_set2 = {'bat','tax',2222}\n",
        "album_set3 = album_set1 & album_set2\n",
        "album_set3\n",
        "album_set1.union(album_set2)\n",
        "#Subset\n",
        "album_set1 = {'bat','tax',2020}\n",
        "album_set4 = {'bat','tax'}\n",
        "album_set4.issubset(album_set1)"
      ],
      "metadata": {
        "colab": {
          "base_uri": "https://localhost:8080/"
        },
        "id": "l-OJG_mxPV7x",
        "outputId": "71bc8039-2edb-4abe-c4d1-9c68c1ede838"
      },
      "execution_count": null,
      "outputs": [
        {
          "output_type": "execute_result",
          "data": {
            "text/plain": [
              "True"
            ]
          },
          "metadata": {},
          "execution_count": 19
        }
      ]
    },
    {
      "cell_type": "markdown",
      "source": [
        "**Dictionaries**"
      ],
      "metadata": {
        "id": "ySrSh0KPbUSO"
      }
    },
    {
      "cell_type": "code",
      "source": [
        "dict = {'app': 10, 'bal': 11, 'cat': 12, 'dog': 13}\n",
        "dict\n",
        "#Adding new entry\n",
        "dict['egg'] = '14'\n",
        "# Deleting\n",
        "del(dict['egg'])\n",
        "dict\n",
        "#Checking\n",
        "'app' in dict\n",
        "'egg' in dict\n",
        "#See all the keys\n",
        "dict.keys()\n",
        "#See all the values\n",
        "dict.values()"
      ],
      "metadata": {
        "colab": {
          "base_uri": "https://localhost:8080/"
        },
        "id": "pxjS_xwYbQ9Q",
        "outputId": "8cb8cf57-6708-4aa9-d075-1b74333284ca"
      },
      "execution_count": null,
      "outputs": [
        {
          "output_type": "execute_result",
          "data": {
            "text/plain": [
              "dict_values([10, 11, 12, 13])"
            ]
          },
          "metadata": {},
          "execution_count": 40
        }
      ]
    },
    {
      "cell_type": "markdown",
      "source": [
        "**Conditions and Branching**"
      ],
      "metadata": {
        "id": "PVytokgfhY-7"
      }
    },
    {
      "cell_type": "code",
      "source": [
        "age= int(input('enter your age'))\n",
        "if(age>18):\n",
        "  print('you can enter')\n",
        "elif(age==18):\n",
        "  print('go see park')\n",
        "else:\n",
        "  print('go see movie')\n",
        "print('move on')  "
      ],
      "metadata": {
        "colab": {
          "base_uri": "https://localhost:8080/"
        },
        "id": "qEXiFYeApsjg",
        "outputId": "bbbb71a6-e84e-417b-935f-fdc0fa4460fe"
      },
      "execution_count": null,
      "outputs": [
        {
          "output_type": "stream",
          "name": "stdout",
          "text": [
            "enter your age19\n",
            "you can enter\n",
            "move on\n"
          ]
        }
      ]
    },
    {
      "cell_type": "markdown",
      "source": [
        "**Logic operators**"
      ],
      "metadata": {
        "id": "j7_4dKuCwhF0"
      }
    },
    {
      "cell_type": "code",
      "source": [
        "# Operator 'OR'\n",
        "year= int(input('enter year'))\n",
        "if(year<2000)or(year>2009):\n",
        "  print(\"album was made in 1990's or 2010's\")\n",
        "else:\n",
        "  print(\"album wasmade in 2000's\")"
      ],
      "metadata": {
        "id": "9wEPJtm8hl5i",
        "colab": {
          "base_uri": "https://localhost:8080/"
        },
        "outputId": "ac20198e-3cb7-47b3-dacb-6a6481f7c9fb"
      },
      "execution_count": null,
      "outputs": [
        {
          "output_type": "stream",
          "name": "stdout",
          "text": [
            "enter year2022\n",
            "album was made in 1990's or 2010's\n"
          ]
        }
      ]
    },
    {
      "cell_type": "code",
      "source": [
        "# Operator 'AND'\n",
        "year= int(input('enter year'))\n",
        "if(year>2000) and (year<2009):\n",
        "  print(\"album was made in 10's\")\n",
        "else:\n",
        "  print(\"album wasmade in before 2000's or after 2010's \")"
      ],
      "metadata": {
        "colab": {
          "base_uri": "https://localhost:8080/"
        },
        "id": "unPKt9ZE1tg5",
        "outputId": "18c999a7-7774-44f2-dfe6-a7796401ca70"
      },
      "execution_count": null,
      "outputs": [
        {
          "output_type": "stream",
          "name": "stdout",
          "text": [
            "enter year2001\n",
            "album was made in 10's\n"
          ]
        }
      ]
    },
    {
      "cell_type": "markdown",
      "source": [
        "**Loops**"
      ],
      "metadata": {
        "id": "kaRC7cyS21nA"
      }
    },
    {
      "cell_type": "code",
      "source": [
        "#'For' loop\n",
        "square = ['r','y','g','p','b']\n",
        "for i in range(0,5):\n",
        "  square[i]='w'\n",
        "square"
      ],
      "metadata": {
        "colab": {
          "base_uri": "https://localhost:8080/"
        },
        "id": "QF_Hr1aJ200R",
        "outputId": "279ed2bc-8429-43cc-c4e2-a3b272eaad28"
      },
      "execution_count": null,
      "outputs": [
        {
          "output_type": "execute_result",
          "data": {
            "text/plain": [
              "['w', 'w', 'w', 'w', 'w']"
            ]
          },
          "metadata": {},
          "execution_count": 72
        }
      ]
    },
    {
      "cell_type": "code",
      "source": [
        "# The break statement\n",
        "i = 1\n",
        "while i < 6:\n",
        "  print(i)\n",
        "  if i ==4:\n",
        "    break\n",
        "  i += 1"
      ],
      "metadata": {
        "colab": {
          "base_uri": "https://localhost:8080/"
        },
        "id": "kCQvKh23-Lc5",
        "outputId": "b6d7b490-0afa-4ea4-f89b-1cdeaf6de07b"
      },
      "execution_count": null,
      "outputs": [
        {
          "output_type": "stream",
          "name": "stdout",
          "text": [
            "1\n",
            "2\n",
            "3\n",
            "4\n"
          ]
        }
      ]
    },
    {
      "cell_type": "code",
      "source": [
        "i = 1\n",
        "while i < 6:\n",
        "  print(i)\n",
        "  if i ==4:\n",
        "    continue\n",
        "    "
      ],
      "metadata": {
        "id": "3woyZpOX_XD1"
      },
      "execution_count": null,
      "outputs": []
    },
    {
      "cell_type": "markdown",
      "source": [
        "**Functions**"
      ],
      "metadata": {
        "id": "QqSagyKZsM-B"
      }
    },
    {
      "cell_type": "code",
      "source": [
        "def function(a):\n",
        "  \"\"\"add 1 to a\"\"\"\n",
        "  b=a+1;\n",
        "  print(a, \"+1=\",b)\n",
        "  return b\n",
        "#Len function (length of the function )\n",
        "ratings = [0.4,0.7,0.5,0.2,0.3,0.6]\n",
        "L=len(ratings)\n",
        "L\n",
        "#sum of ratings\n",
        "S= sum(ratings)\n",
        "S\n",
        "ratings\n",
        "#sorted (new list is created)\n",
        "sorted_ratings= sorted(ratings)\n",
        "sorted_ratings\n",
        "#sort (no new list is created )\n",
        "ratings.sort()\n",
        "ratings\n"
      ],
      "metadata": {
        "colab": {
          "base_uri": "https://localhost:8080/"
        },
        "id": "BuRhVFN3sUwC",
        "outputId": "a8b85cef-6c07-4934-d71b-45c002a63a62"
      },
      "execution_count": null,
      "outputs": [
        {
          "output_type": "execute_result",
          "data": {
            "text/plain": [
              "6"
            ]
          },
          "metadata": {},
          "execution_count": 16
        }
      ]
    },
    {
      "cell_type": "code",
      "source": [
        "# 1.making functions\n",
        "def add1(a):\n",
        "  b = a+1\n",
        "  return b\n",
        "c= add1(5)\n",
        "c\n",
        "d = add1(7)\n",
        "d"
      ],
      "metadata": {
        "colab": {
          "base_uri": "https://localhost:8080/"
        },
        "id": "l0r9e43txs_Q",
        "outputId": "b67b3f55-9bda-4fba-dc07-436180d6a501"
      },
      "execution_count": null,
      "outputs": [
        {
          "output_type": "execute_result",
          "data": {
            "text/plain": [
              "8"
            ]
          },
          "metadata": {},
          "execution_count": 19
        }
      ]
    },
    {
      "cell_type": "code",
      "source": [
        "def function(a):\n",
        "  \"\"\"add 1 to a\"\"\"\n",
        "  b=a+1;\n",
        "  return b\n",
        "  help(add1)\n",
        "#Multiply\n",
        "def mult(a,b):\n",
        "  c=a*b\n",
        "  return c\n",
        "mult(2,20)\n",
        "mult(2,'ravi')"
      ],
      "metadata": {
        "colab": {
          "base_uri": "https://localhost:8080/",
          "height": 35
        },
        "id": "EStmLrmvuXLO",
        "outputId": "3d09baa2-4edb-45ee-8c3a-2cd5fa60c9e6"
      },
      "execution_count": null,
      "outputs": [
        {
          "output_type": "execute_result",
          "data": {
            "text/plain": [
              "'raviravi'"
            ],
            "application/vnd.google.colaboratory.intrinsic+json": {
              "type": "string"
            }
          },
          "metadata": {},
          "execution_count": 41
        }
      ]
    },
    {
      "cell_type": "code",
      "source": [
        "def RR():\n",
        "  print('ravindra')\n",
        "RR()"
      ],
      "metadata": {
        "colab": {
          "base_uri": "https://localhost:8080/"
        },
        "id": "e2Inh-hF2vrr",
        "outputId": "da42cccc-6384-40f7-9e83-1a2e0dd0f67f"
      },
      "execution_count": null,
      "outputs": [
        {
          "output_type": "stream",
          "name": "stdout",
          "text": [
            "ravindra\n"
          ]
        }
      ]
    },
    {
      "cell_type": "code",
      "source": [
        "def add1(a):\n",
        "  b = a+1;\n",
        "  print(a,'plus 1 equals',b)\n",
        "  return b\n",
        "add1(4)\n"
      ],
      "metadata": {
        "colab": {
          "base_uri": "https://localhost:8080/"
        },
        "id": "nPc3Tt9O3Z05",
        "outputId": "613676ab-bf32-4d80-8762-9c62efd9dea3"
      },
      "execution_count": null,
      "outputs": [
        {
          "output_type": "stream",
          "name": "stdout",
          "text": [
            "4 plus 1 equals 5\n"
          ]
        },
        {
          "output_type": "execute_result",
          "data": {
            "text/plain": [
              "5"
            ]
          },
          "metadata": {},
          "execution_count": 50
        }
      ]
    },
    {
      "cell_type": "code",
      "source": [
        "def thriller():\n",
        "  date=1998\n",
        "  return date\n",
        "thriller()"
      ],
      "metadata": {
        "colab": {
          "base_uri": "https://localhost:8080/"
        },
        "id": "4bt8dydjJKRe",
        "outputId": "7e98a486-a0f2-48ba-e274-48aeaf1c5500"
      },
      "execution_count": null,
      "outputs": [
        {
          "output_type": "execute_result",
          "data": {
            "text/plain": [
              "1998"
            ]
          },
          "metadata": {},
          "execution_count": 5
        }
      ]
    },
    {
      "cell_type": "code",
      "source": [
        "ratings = [12,3,121,33,56,66,74]\n",
        "ratings.sort()\n",
        "ratings.reverse()\n",
        "ratings"
      ],
      "metadata": {
        "colab": {
          "base_uri": "https://localhost:8080/"
        },
        "id": "8JeCSiFl5MTO",
        "outputId": "267910d7-eeac-49f5-ab2e-0424f81257de"
      },
      "execution_count": 5,
      "outputs": [
        {
          "output_type": "execute_result",
          "data": {
            "text/plain": [
              "[121, 74, 66, 56, 33, 12, 3]"
            ]
          },
          "metadata": {},
          "execution_count": 5
        }
      ]
    },
    {
      "cell_type": "code",
      "source": [],
      "metadata": {
        "id": "FXiOIJmA8_uK"
      },
      "execution_count": null,
      "outputs": []
    }
  ]
}